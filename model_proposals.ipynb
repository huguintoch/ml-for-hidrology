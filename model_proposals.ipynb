{
 "cells": [
  {
   "cell_type": "markdown",
   "metadata": {},
   "source": [
    "# ML for Hydrology - Model Proposals"
   ]
  },
  {
   "cell_type": "code",
   "execution_count": null,
   "metadata": {},
   "outputs": [],
   "source": [
    "# Install libraries\n",
    "%pip install scikit-learn\n",
    "%pip install pandas\n",
    "%pip install matplotlib\n",
    "%pip install numpy"
   ]
  },
  {
   "cell_type": "code",
   "execution_count": null,
   "metadata": {},
   "outputs": [],
   "source": [
    "# DATA INITIALIZATION\n",
    "import pandas as pd\n",
    "from sklearn.model_selection import train_test_split\n",
    "\n",
    "# Read CSV and ensure data is complete\n",
    "df = pd.read_csv(\"./PlatteRiverDataset.csv\")\n",
    "if any(df.isnull().sum()):\n",
    "    print(\"[WARNING]: Data contains null values\")\n",
    "\n",
    "# Split data into training and testing sets\n",
    "training_data, test_data = train_test_split(\n",
    "    df, train_size=0.3, test_size=0.7, random_state=42\n",
    ")\n",
    "\n",
    "# Sort data by date\n",
    "training_data = training_data.sort_values(by=\"CaptureTime\")\n",
    "test_data = test_data.sort_values(by=\"CaptureTime\")\n",
    "\n",
    "# Select features\n",
    "generic_feature_names = [\n",
    "    \"grayMean\",\n",
    "    \"graySigma\",\n",
    "    \"entropyMean\",\n",
    "    \"entropySigma\",\n",
    "    \"hMean\",\n",
    "    \"hSigma\",\n",
    "    \"sMean\",\n",
    "    \"sSigma\",\n",
    "    \"vMean\",\n",
    "    \"vSigma\",\n",
    "]\n",
    "above_weir_feature_names = [\n",
    "    \"grayMean0\",\n",
    "    \"graySigma0\",\n",
    "    \"entropyMean0\",\n",
    "    \"entropySigma0\",\n",
    "    \"hMean0\",\n",
    "    \"hSigma0\",\n",
    "    \"sMean0\",\n",
    "    \"sSigma0\",\n",
    "    \"vMean0\",\n",
    "    \"vSigma0\",\n",
    "]\n",
    "below_weir_feature_names = [\n",
    "    \"grayMean1\",\n",
    "    \"graySigma1\",\n",
    "    \"entropyMean1\",\n",
    "    \"entropySigma1\",\n",
    "    \"hMean1\",\n",
    "    \"hSigma1\",\n",
    "    \"sMean1\",\n",
    "    \"sSigma1\",\n",
    "    \"vMean1\",\n",
    "    \"vSigma1\",\n",
    "]\n",
    "weir_feature_names = [\n",
    "    \"WeirAngle\",\n",
    "    \"WeirPt1X\",\n",
    "    \"WeirPt1Y\",\n",
    "    \"WeirPt2X\",\n",
    "    \"WeirPt2Y\",\n",
    "    \"WwRawLineMin\",\n",
    "    \"WwRawLineMax\",\n",
    "    \"WwRawLineMean\",\n",
    "    \"WwRawLineSigma\",\n",
    "    \"WwCurveLineMin\",\n",
    "    \"WwCurveLineMax\",\n",
    "    \"WwCurveLineMean\",\n",
    "    \"WwCurveLineSigma\",\n",
    "]\n",
    "selected_feature_names = (\n",
    "    generic_feature_names + above_weir_feature_names + below_weir_feature_names + weir_feature_names\n",
    ")\n",
    "\n",
    "# Split stage data into features and expected values\n",
    "stage_training_features = training_data[selected_feature_names].values\n",
    "stage_training_observations = training_data[\"Stage\"].values\n",
    "stage_test_features = test_data[selected_feature_names].values\n",
    "stage_test_observations = test_data[\"Stage\"].values\n",
    "\n",
    "# Split discharge data into features and expected values\n",
    "discharge_training_features = training_data[selected_feature_names].values\n",
    "discharge_training_observations = training_data[\"Discharge\"].values\n",
    "discharge_test_features = test_data[selected_feature_names].values\n",
    "discharge_test_observations = test_data[\"Discharge\"].values\n"
   ]
  },
  {
   "cell_type": "code",
   "execution_count": null,
   "metadata": {},
   "outputs": [],
   "source": [
    "# ML INITIALIZATION\n",
    "from sklearn.metrics import mean_absolute_error, mean_squared_error\n",
    "from matplotlib import pyplot as plt\n",
    "import numpy as np\n",
    "\n",
    "def run_models(stage_model, discharge_model):\n",
    "    # Train models\n",
    "    print(\"Training models...\")\n",
    "    stage_model.fit(stage_training_features, stage_training_observations)\n",
    "    discharge_model.fit(discharge_training_features, discharge_training_observations)\n",
    "    print(\"Training complete\")\n",
    "\n",
    "    # Test the model\n",
    "    print(\"Testing models...\")\n",
    "    stage_predictions = stage_model.predict(X=stage_test_features)\n",
    "    discharge_predictions = discharge_model.predict(X=discharge_test_features)\n",
    "    print(\"Testing complete\")\n",
    "\n",
    "    # Calculate the error, print it, and plot it\n",
    "    print(\"[Stage] Mean absolute error: %.3f\" % mean_absolute_error(stage_test_observations, stage_predictions))\n",
    "    print(\"[Stage] Mean squared error: %.3f\" % mean_squared_error(stage_test_observations, stage_predictions))\n",
    "    plt.plot(test_data[\"CaptureTime\"].values, stage_predictions, label='Predicted', linewidth=1)\n",
    "    plt.plot(test_data[\"CaptureTime\"].values, stage_test_observations, label='Expected', linewidth=1)\n",
    "    plt.grid(visible=True)\n",
    "    plt.title(\"Stage\")\n",
    "    plt.xlabel(\"Date\")\n",
    "    plt.ylabel(\"Stage (ft)\")\n",
    "    # limit nunmber of ticks on x axis to 10\n",
    "    plt.xticks(np.linspace(0, len(test_data[\"CaptureTime\"].values), 10), rotation=45)\n",
    "    plt.legend(loc=\"upper right\")\n",
    "    plt.show()\n",
    "\n",
    "    print(\"[Discharge] Mean squared error: %.3f\" % mean_squared_error(discharge_test_observations, discharge_predictions))\n",
    "    print(\"[Discharge] Mean absolute error: %.3f\" % mean_absolute_error(discharge_test_observations, discharge_predictions))\n",
    "    plt.plot(test_data[\"CaptureTime\"].values, discharge_predictions, label='Predicted', linewidth=1)\n",
    "    plt.plot(test_data[\"CaptureTime\"].values, discharge_test_observations, label='Expected', linewidth=1)\n",
    "    plt.grid(visible=True)\n",
    "    plt.title(\"Discharge\")\n",
    "    plt.xlabel(\"Date\")\n",
    "    plt.ylabel(\"Discharge (cfs)\")\n",
    "    # limit nunmber of ticks on x axis to 10\n",
    "    plt.xticks(np.linspace(0, len(test_data[\"CaptureTime\"].values), 10), rotation=45)\n",
    "    plt.legend(loc=\"upper right\")\n",
    "    plt.show()\n"
   ]
  },
  {
   "cell_type": "code",
   "execution_count": null,
   "metadata": {},
   "outputs": [],
   "source": [
    "# Proposal 1: Use a Support Vector Machine to predict stage and discharge\n",
    "from sklearn.svm import SVR\n",
    "stage_model = SVR()\n",
    "discharge_model = SVR()\n",
    "run_models(stage_model, discharge_model)"
   ]
  },
  {
   "cell_type": "code",
   "execution_count": null,
   "metadata": {},
   "outputs": [],
   "source": [
    "# Proposal 2: Use a Random Forest to predict stage and discharge\n",
    "from sklearn.ensemble import RandomForestRegressor\n",
    "stage_model = RandomForestRegressor()\n",
    "discharge_model = RandomForestRegressor()\n",
    "run_models(stage_model, discharge_model)"
   ]
  },
  {
   "cell_type": "code",
   "execution_count": null,
   "metadata": {},
   "outputs": [],
   "source": [
    "# Proposal 3: Use a Multi-Layer Perceptron to predict stage and discharge\n",
    "from sklearn.neural_network import MLPRegressor\n",
    "stage_model = MLPRegressor()\n",
    "discharge_model = MLPRegressor()\n",
    "run_models(stage_model, discharge_model)"
   ]
  },
  {
   "cell_type": "code",
   "execution_count": null,
   "metadata": {},
   "outputs": [],
   "source": [
    "# Proposal 4: Use a Extremely Randomized Trees to predict stage and discharge\n",
    "from sklearn.ensemble import ExtraTreesRegressor\n",
    "stage_model = ExtraTreesRegressor()\n",
    "discharge_model = ExtraTreesRegressor()\n",
    "run_models(stage_model, discharge_model)"
   ]
  },
  {
   "cell_type": "code",
   "execution_count": null,
   "metadata": {},
   "outputs": [],
   "source": [
    "# Proposal 5: Use a Bayesian Ridge to predict stage and discharge\n",
    "from sklearn.linear_model import BayesianRidge\n",
    "stage_model = BayesianRidge()\n",
    "discharge_model = BayesianRidge()\n",
    "run_models(stage_model, discharge_model)"
   ]
  }
 ],
 "metadata": {
  "kernelspec": {
   "display_name": "Python 3.10.7 64-bit",
   "language": "python",
   "name": "python3"
  },
  "language_info": {
   "codemirror_mode": {
    "name": "ipython",
    "version": 3
   },
   "file_extension": ".py",
   "mimetype": "text/x-python",
   "name": "python",
   "nbconvert_exporter": "python",
   "pygments_lexer": "ipython3",
   "version": "3.10.7"
  },
  "orig_nbformat": 4,
  "vscode": {
   "interpreter": {
    "hash": "675b6d24bb4c0ee360e3c67ebb7cf09ed327ad783031eee38395f7e34ef2a5d6"
   }
  }
 },
 "nbformat": 4,
 "nbformat_minor": 2
}
