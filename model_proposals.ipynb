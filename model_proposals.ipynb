{
 "cells": [
  {
   "cell_type": "markdown",
   "metadata": {},
   "source": [
    "# ML for Hydrology - Model Proposals"
   ]
  },
  {
   "cell_type": "code",
   "execution_count": null,
   "metadata": {},
   "outputs": [],
   "source": [
    "# Install libraries\n",
    "%pip install scikit-learn\n",
    "%pip install pandas"
   ]
  },
  {
   "cell_type": "code",
   "execution_count": null,
   "metadata": {},
   "outputs": [],
   "source": [
    "# DATA INITIALIZATION\n",
    "import pandas as pd\n",
    "\n",
    "# Read CSV and ensure data is complete\n",
    "df = pd.read_csv('./PlatteRiverDataset.csv')\n",
    "if any(df.isnull().sum()):\n",
    "    print(\"[WARNING]: Data contains null values\")\n",
    "\n",
    "expected_stage_values = list(df['Stage'].values)\n",
    "expected_discharge_values = list(df['Discharge'].values)\n",
    "\n",
    "generic_feature_names = ['grayMean','graySigma','entropyMean','entropySigma','hMean','hSigma','sMean','sSigma','vMean','vSigma']\n",
    "above_weir_feature_names = ['grayMean0','graySigma0','entropyMean0','entropySigma0','hMean0','hSigma0','sMean0','sSigma0','vMean0','vSigma0']\n",
    "below_weir_feature_names = ['grayMean1','graySigma1','entropyMean1','entropySigma1','hMean1','hSigma1','sMean1','sSigma1','vMean1','vSigma1']\n",
    "selected_feature_names = generic_feature_names + above_weir_feature_names + below_weir_feature_names\n",
    "\n",
    "feature_values = list(df[selected_feature_names].values)"
   ]
  },
  {
   "cell_type": "code",
   "execution_count": null,
   "metadata": {},
   "outputs": [],
   "source": [
    "# ML INITIALIZATION\n",
    "from sklearn.metrics import mean_squared_error\n",
    "\n",
    "def train_and_test_models(stage_model, discharge_model):\n",
    "    percent_train = 0.8\n",
    "    num_train = int(percent_train * len(expected_stage_values))\n",
    "\n",
    "    # Train models\n",
    "    print(\"Training models...\")\n",
    "    stage_expectations = expected_stage_values[0:num_train]\n",
    "    discharge_expectations = expected_discharge_values[0:num_train]\n",
    "    test_values = feature_values[0:num_train]\n",
    "    stage_model.fit(test_values, stage_expectations)\n",
    "    discharge_model.fit(test_values, discharge_expectations)\n",
    "    print(\"Training complete\")\n",
    "\n",
    "    # Test the model\n",
    "    print(\"Testing models...\")\n",
    "    test_values = feature_values[num_train:]\n",
    "    stage_predictions = stage_model.predict(X=test_values)\n",
    "    discharge_predictions = discharge_model.predict(X=test_values)\n",
    "    print(\"Testing complete\")\n",
    "\n",
    "    # Calculate the error\n",
    "    stage_expectations = expected_stage_values[num_train:]\n",
    "    discharge_expectations = expected_discharge_values[num_train:]\n",
    "    print(\"[Stage] Mean squared error: %.3f\" % mean_squared_error(stage_expectations, stage_predictions))\n",
    "    print(\"[Discharge] Mean squared error: %.3f\" % mean_squared_error(discharge_expectations, discharge_predictions))\n"
   ]
  },
  {
   "cell_type": "code",
   "execution_count": null,
   "metadata": {},
   "outputs": [],
   "source": [
    "# Proposal 1: Use a Support Vector Machine to predict stage and discharge\n",
    "from sklearn.svm import SVR\n",
    "stage_model = SVR()\n",
    "discharge_model = SVR()\n",
    "train_and_test_models(stage_model, discharge_model)"
   ]
  },
  {
   "cell_type": "code",
   "execution_count": null,
   "metadata": {},
   "outputs": [],
   "source": [
    "# Proposal 2: Use a Random Forest to predict stage and discharge\n",
    "from sklearn.ensemble import RandomForestRegressor\n",
    "stage_model = RandomForestRegressor()\n",
    "discharge_model = RandomForestRegressor()\n",
    "train_and_test_models(stage_model, discharge_model)"
   ]
  },
  {
   "cell_type": "code",
   "execution_count": null,
   "metadata": {},
   "outputs": [],
   "source": [
    "# Proposal 4: Use a Multi-Layer Perceptron to predict stage and discharge\n",
    "from sklearn.neural_network import MLPRegressor\n",
    "stage_model = MLPRegressor()\n",
    "discharge_model = MLPRegressor()\n",
    "train_and_test_models(stage_model, discharge_model)"
   ]
  }
 ],
 "metadata": {
  "kernelspec": {
   "display_name": "Python 3.10.7 64-bit",
   "language": "python",
   "name": "python3"
  },
  "language_info": {
   "codemirror_mode": {
    "name": "ipython",
    "version": 3
   },
   "file_extension": ".py",
   "mimetype": "text/x-python",
   "name": "python",
   "nbconvert_exporter": "python",
   "pygments_lexer": "ipython3",
   "version": "3.10.7"
  },
  "orig_nbformat": 4,
  "vscode": {
   "interpreter": {
    "hash": "675b6d24bb4c0ee360e3c67ebb7cf09ed327ad783031eee38395f7e34ef2a5d6"
   }
  }
 },
 "nbformat": 4,
 "nbformat_minor": 2
}
