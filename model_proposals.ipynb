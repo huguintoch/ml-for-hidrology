{
 "cells": [
  {
   "cell_type": "markdown",
   "metadata": {},
   "source": [
    "# ML for Hydrology - Model Proposals"
   ]
  },
  {
   "cell_type": "code",
   "execution_count": null,
   "metadata": {},
   "outputs": [],
   "source": [
    "# Install libraries\n",
    "%pip install scikit-learn\n",
    "%pip install pandas\n",
    "%pip install matplotlib\n",
    "%pip install numpy"
   ]
  },
  {
   "cell_type": "code",
   "execution_count": null,
   "metadata": {},
   "outputs": [],
   "source": [
    "# DATA INITIALIZATION\n",
    "import pandas as pd\n",
    "from sklearn.model_selection import train_test_split\n",
    "\n",
    "# Read CSV and ensure data is complete\n",
    "df = pd.read_csv('./PlatteRiverDataset.csv')\n",
    "if any(df.isnull().sum()):\n",
    "    print(\"[WARNING]: Data contains null values\")\n",
    "\n",
    "# Split data into training and testing sets\n",
    "training_data, test_data = train_test_split(df, train_size=0.7, test_size=0.3, random_state=42)\n",
    "\n",
    "# Select features\n",
    "generic_feature_names = ['grayMean','graySigma','entropyMean','entropySigma','hMean','hSigma','sMean','sSigma','vMean','vSigma']\n",
    "above_weir_feature_names = ['grayMean0','graySigma0','entropyMean0','entropySigma0','hMean0','hSigma0','sMean0','sSigma0','vMean0','vSigma0']\n",
    "below_weir_feature_names = ['grayMean1','graySigma1','entropyMean1','entropySigma1','hMean1','hSigma1','sMean1','sSigma1','vMean1','vSigma1']\n",
    "selected_feature_names = generic_feature_names + above_weir_feature_names + below_weir_feature_names\n",
    "\n",
    "# Split stage data into features and expected values\n",
    "stage_training_features = training_data[selected_feature_names].values\n",
    "stage_training_observations = training_data['Stage'].values\n",
    "stage_test_features = test_data[selected_feature_names].values\n",
    "stage_test_observations = test_data['Stage'].values\n",
    "\n",
    "# Split discharge data into features and expected values\n",
    "discharge_training_features = training_data[selected_feature_names].values\n",
    "discharge_training_observations = training_data['Discharge'].values\n",
    "discharge_test_features = test_data[selected_feature_names].values\n",
    "discharge_test_observations = test_data['Discharge'].values"
   ]
  },
  {
   "cell_type": "code",
   "execution_count": null,
   "metadata": {},
   "outputs": [],
   "source": [
    "# ML INITIALIZATION\n",
    "from sklearn.metrics import mean_absolute_error, mean_squared_error\n",
    "from matplotlib import pyplot as plt\n",
    "import numpy as np\n",
    "\n",
    "def run_models(stage_model, discharge_model):\n",
    "    # Train models\n",
    "    print(\"Training models...\")\n",
    "    stage_model.fit(stage_training_features, stage_training_observations)\n",
    "    discharge_model.fit(discharge_training_features, discharge_training_observations)\n",
    "    print(\"Training complete\")\n",
    "\n",
    "    # Test the model\n",
    "    print(\"Testing models...\")\n",
    "    stage_predictions = stage_model.predict(X=stage_test_features)\n",
    "    discharge_predictions = discharge_model.predict(X=discharge_test_features)\n",
    "    print(\"Testing complete\")\n",
    "\n",
    "    # Calculate the error, print it, and plot it\n",
    "    print(\"[Stage] Mean absolute error: %.3f\" % mean_absolute_error(stage_test_observations, stage_predictions))\n",
    "    print(\"[Stage] Mean squared error: %.3f\" % mean_squared_error(stage_test_observations, stage_predictions))\n",
    "    plt.plot(stage_test_observations, label='Expected', linewidth=1)\n",
    "    plt.plot(stage_predictions, label='Predicted', linewidth=1)\n",
    "    plt.legend(loc=\"upper right\")\n",
    "    plt.show()\n",
    "\n",
    "    print(\"[Discharge] Mean squared error: %.3f\" % mean_squared_error(discharge_test_observations, discharge_predictions))\n",
    "    print(\"[Discharge] Mean absolute error: %.3f\" % mean_absolute_error(discharge_test_observations, discharge_predictions))\n",
    "    plt.plot(discharge_test_observations, label='Expected', linewidth=1)\n",
    "    plt.plot(discharge_predictions, label='Predicted', linewidth=1)\n",
    "    plt.legend(loc=\"upper right\")\n",
    "    plt.show()\n"
   ]
  },
  {
   "cell_type": "code",
   "execution_count": null,
   "metadata": {},
   "outputs": [],
   "source": [
    "# Proposal 1: Use a Support Vector Machine to predict stage and discharge\n",
    "from sklearn.svm import SVR\n",
    "stage_model = SVR()\n",
    "discharge_model = SVR()\n",
    "run_models(stage_model, discharge_model)"
   ]
  },
  {
   "cell_type": "code",
   "execution_count": null,
   "metadata": {},
   "outputs": [],
   "source": [
    "# Proposal 2: Use a Random Forest to predict stage and discharge\n",
    "from sklearn.ensemble import RandomForestRegressor\n",
    "stage_model = RandomForestRegressor()\n",
    "discharge_model = RandomForestRegressor()\n",
    "run_models(stage_model, discharge_model)"
   ]
  },
  {
   "cell_type": "code",
   "execution_count": null,
   "metadata": {},
   "outputs": [],
   "source": [
    "# Proposal 3: Use a Multi-Layer Perceptron to predict stage and discharge\n",
    "from sklearn.neural_network import MLPRegressor\n",
    "stage_model = MLPRegressor()\n",
    "discharge_model = MLPRegressor()\n",
    "run_models(stage_model, discharge_model)"
   ]
  }
 ],
 "metadata": {
  "kernelspec": {
   "display_name": "Python 3.10.7 64-bit",
   "language": "python",
   "name": "python3"
  },
  "language_info": {
   "codemirror_mode": {
    "name": "ipython",
    "version": 3
   },
   "file_extension": ".py",
   "mimetype": "text/x-python",
   "name": "python",
   "nbconvert_exporter": "python",
   "pygments_lexer": "ipython3",
   "version": "3.10.7"
  },
  "orig_nbformat": 4,
  "vscode": {
   "interpreter": {
    "hash": "675b6d24bb4c0ee360e3c67ebb7cf09ed327ad783031eee38395f7e34ef2a5d6"
   }
  }
 },
 "nbformat": 4,
 "nbformat_minor": 2
}
