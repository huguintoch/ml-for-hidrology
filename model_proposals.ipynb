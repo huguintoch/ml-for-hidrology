{
 "cells": [
  {
   "cell_type": "markdown",
   "metadata": {},
   "source": [
    "# ML for Hydrology - Model Proposals"
   ]
  },
  {
   "cell_type": "code",
   "execution_count": null,
   "metadata": {},
   "outputs": [],
   "source": [
    "%pip install scikit-learn\n",
    "%pip install pandas"
   ]
  },
  {
   "cell_type": "code",
   "execution_count": 23,
   "metadata": {},
   "outputs": [
    {
     "name": "stdout",
     "output_type": "stream",
     "text": [
      "(42059, 1) (42059, 1) (42059, 10)\n",
      "[[3.23228715]\n",
      " [3.28284917]\n",
      " [3.37234473]\n",
      " ...\n",
      " [3.64448562]\n",
      " [3.75102873]\n",
      " [3.79966697]]\n"
     ]
    }
   ],
   "source": [
    "# Proposal 1: Use a simple linear regression model\n",
    "import pandas as pd\n",
    "from sklearn import linear_model\n",
    "\n",
    "df = pd.read_csv('./PlatteRiverDataset.csv')\n",
    "stage = df['Stage'].values.reshape(-1, 1)\n",
    "surge = df['Discharge'].values.reshape(-1, 1)\n",
    "generic_features = df[['grayMean','graySigma','entropyMean','entropySigma','hMean','hSigma','sMean','sSigma','vMean','vSigma']].values\n",
    "print(stage.shape, surge.shape, generic_features.shape)\n",
    "\n",
    "# Train the model\n",
    "model = linear_model.LinearRegression()\n",
    "test_stage = stage[0:20000]\n",
    "test_features = generic_features[0:20000]\n",
    "model.fit(test_features, test_stage)\n",
    "\n",
    "# Test the model\n",
    "test_features = generic_features[20000:40000]\n",
    "print(model.predict(X=test_features))"
   ]
  }
 ],
 "metadata": {
  "kernelspec": {
   "display_name": "Python 3.10.7 64-bit",
   "language": "python",
   "name": "python3"
  },
  "language_info": {
   "codemirror_mode": {
    "name": "ipython",
    "version": 3
   },
   "file_extension": ".py",
   "mimetype": "text/x-python",
   "name": "python",
   "nbconvert_exporter": "python",
   "pygments_lexer": "ipython3",
   "version": "3.10.7"
  },
  "orig_nbformat": 4,
  "vscode": {
   "interpreter": {
    "hash": "675b6d24bb4c0ee360e3c67ebb7cf09ed327ad783031eee38395f7e34ef2a5d6"
   }
  }
 },
 "nbformat": 4,
 "nbformat_minor": 2
}
